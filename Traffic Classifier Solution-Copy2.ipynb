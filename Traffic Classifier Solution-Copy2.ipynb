{
 "cells": [
  {
   "cell_type": "markdown",
   "metadata": {},
   "source": [
    "# LeNet Lab\n",
    "![LeNet Architecture](lenet.png)\n",
    "Source: Yan LeCun"
   ]
  },
  {
   "cell_type": "markdown",
   "metadata": {},
   "source": [
    "## Load Data\n",
    "\n",
    "Load the MNIST data, which comes pre-loaded with TensorFlow.\n",
    "\n",
    "You do not need to modify this section."
   ]
  },
  {
   "cell_type": "code",
   "execution_count": 1,
   "metadata": {},
   "outputs": [
    {
     "name": "stdout",
     "output_type": "stream",
     "text": [
      "Done loading pickle files\n"
     ]
    }
   ],
   "source": [
    "#LOAD PICKLED DATA \n",
    "from tensorflow.examples.tutorials.mnist import input_data\n",
    "from skimage import color\n",
    "import numpy as np\n",
    "\n",
    "#mnist = input_data.read_data_sets(\"MNIST_data/\", reshape=False)\n",
    "# Load pickled data\n",
    "import pickle\n",
    "\n",
    "# TODO: Fill this in based on where you saved the training and testing data\n",
    "\n",
    "training_file = 'traffic-signs-data/train.p'\n",
    "validation_file='traffic-signs-data/valid.p'\n",
    "testing_file = 'traffic-signs-data/test.p'\n",
    "\n",
    "with open(training_file, mode='rb') as f:\n",
    "    train = pickle.load(f)\n",
    "with open(validation_file, mode='rb') as f:\n",
    "    valid = pickle.load(f)\n",
    "with open(testing_file, mode='rb') as f:\n",
    "    test = pickle.load(f)\n",
    "\n",
    "print('Done loading pickle files')"
   ]
  },
  {
   "cell_type": "code",
   "execution_count": 2,
   "metadata": {},
   "outputs": [
    {
     "name": "stdout",
     "output_type": "stream",
     "text": [
      "Done setting local variables\n"
     ]
    }
   ],
   "source": [
    "#Set local variables\n",
    "X_train, y_train = train['features'], train['labels']\n",
    "X_validation, y_validation = valid['features'], valid['labels']\n",
    "X_test, y_test = test['features'], test['labels']\n",
    "\n",
    "print('Done setting local variables')"
   ]
  },
  {
   "cell_type": "code",
   "execution_count": 3,
   "metadata": {},
   "outputs": [
    {
     "name": "stdout",
     "output_type": "stream",
     "text": [
      "Done loading sign names\n"
     ]
    }
   ],
   "source": [
    "#read in the signnames\n",
    "import csv\n",
    "with open( 'signnames.csv', 'rt') as f:\n",
    "    reader = csv.reader(f)\n",
    "    label_name = list(reader)\n",
    "    #print(len(label_name))\n",
    "final_label_name=label_name[1:]\n",
    "#print(len(final_label_name))\n",
    "print('Done loading sign names')"
   ]
  },
  {
   "cell_type": "code",
   "execution_count": 4,
   "metadata": {},
   "outputs": [
    {
     "name": "stdout",
     "output_type": "stream",
     "text": [
      "Number of training examples = 34799\n",
      "Number of validation examples = 4410\n",
      "Number of testing examples = 12630\n",
      "Image data shape = (32, 32, 3)\n",
      "Number of classes = 43\n"
     ]
    }
   ],
   "source": [
    "#for key,value in train.items():\n",
    "    #print(key)\n",
    "    #print(train[key].shape)\n",
    "\n",
    "### Replace each question mark with the appropriate value. \n",
    "### Use python, pandas or numpy methods rather than hard coding the results\n",
    "\n",
    "# TODO: Number of training examples\n",
    "n_train = len(X_train)\n",
    "\n",
    "# TODO: Number of validation examples\n",
    "n_validation = len(X_validation)\n",
    "\n",
    "# TODO: Number of testing examples.\n",
    "n_test = len(X_test)\n",
    "\n",
    "# TODO: What's the shape of an traffic sign image?\n",
    "image_shape = X_train[0].shape\n",
    "\n",
    "# TODO: How many unique classes/labels there are in the dataset.\n",
    "unique, counts = np.unique(y_train, return_counts=True)\n",
    "unique_val, counts_val = np.unique(y_validation, return_counts=True)\n",
    "unique_test, counts_test = np.unique(y_test, return_counts=True)\n",
    "n_classes=len(unique)\n",
    "n_classes_val=len(unique_val)\n",
    "n_classes_test=len(unique_test)\n",
    "\n",
    "#print(unique,counts)\n",
    "#print(y_train.shape)\n",
    "#print(unique[0])\n",
    "#unique_0=np.where(y_train==unique[0])[0]\n",
    "#print(unique_0[0:5])\n",
    "#print(np.where(y_train==unique[0])[0])\n",
    "print(\"Number of training examples =\", n_train)\n",
    "print(\"Number of validation examples =\", n_validation)\n",
    "print(\"Number of testing examples =\", n_test)\n",
    "print(\"Image data shape =\", image_shape)\n",
    "print(\"Number of classes =\", n_classes)"
   ]
  },
  {
   "cell_type": "code",
   "execution_count": null,
   "metadata": {},
   "outputs": [],
   "source": [
    "# VISUALIZATION OF TRAFFIC SIGNS\n",
    "import matplotlib.pyplot as plt\n",
    "import numpy as np\n",
    "\n",
    "no_images_displayed_per_class=15\n",
    "\n",
    "%matplotlib inline\n",
    "for unique_classes in unique:\n",
    "    class_images=np.where(y_train==unique_classes)[0][0:no_images_displayed_per_class]\n",
    "    np.random.seed(4)\n",
    "    #grid = np.random.rand(4, 4)\n",
    "    print(final_label_name[unique_classes])\n",
    "    fig, axes = plt.subplots(1, no_images_displayed_per_class, figsize=(16,18),\n",
    "                             subplot_kw={'xticks': [], 'yticks': []})\n",
    "\n",
    "    fig.subplots_adjust(hspace=0.1, wspace=0.01)\n",
    "    \n",
    "    for ax, class_image in zip(axes.flat, class_images):\n",
    "        #print(X_train[class_image][0][0])\n",
    "        #print(class_image)\n",
    "        ax.imshow(X_train[class_image].squeeze())\n",
    "        #Use for grayscale images\n",
    "        #ax.imshow(X_train[class_image].squeeze(),cmap='gray')\n",
    "        ax.set_title(y_train[class_image])\n",
    "\n",
    "    plt.show()"
   ]
  },
  {
   "cell_type": "code",
   "execution_count": 5,
   "metadata": {},
   "outputs": [
    {
     "name": "stdout",
     "output_type": "stream",
     "text": [
      "[1830   30    0  750  240  360 1650  720  750  690  210  840  120   90 1320\n",
      " 1470 1650 1020  930 1830 1710 1740 1680 1560 1770  660 1470 1800 1530 1770\n",
      " 1620 1320 1800 1411 1650  930 1680 1830  150 1740 1710 1800 1800]\n"
     ]
    }
   ],
   "source": [
    "print(max(counts)-counts)"
   ]
  },
  {
   "cell_type": "code",
   "execution_count": 6,
   "metadata": {},
   "outputs": [],
   "source": [
    "def augment_brightness_camera_images(image):\n",
    "    image1 = cv2.cvtColor(image,cv2.COLOR_RGB2HSV)\n",
    "    random_bright = .25+np.random.uniform()\n",
    "    #print(random_bright)\n",
    "    image1[:,:,2] = image1[:,:,2]*random_bright\n",
    "    image1 = cv2.cvtColor(image1,cv2.COLOR_HSV2RGB)\n",
    "    return image1\n",
    "\n",
    "def transform_image(img,ang_range,shear_range,trans_range):\n",
    "    '''\n",
    "    This function transforms images to generate new images.\n",
    "    The function takes in following arguments,\n",
    "    1- Image\n",
    "    2- ang_range: Range of angles for rotation\n",
    "    3- shear_range: Range of values to apply affine transform to\n",
    "    4- trans_range: Range of values to apply translations over. \n",
    "    \n",
    "    A Random uniform distribution is used to generate different parameters for transformation\n",
    "    \n",
    "    '''\n",
    "    # Rotation\n",
    "\n",
    "    ang_rot = np.random.uniform(ang_range)-ang_range/2\n",
    "    rows,cols,ch = img.shape    \n",
    "    Rot_M = cv2.getRotationMatrix2D((cols/2,rows/2),ang_rot,1)\n",
    "\n",
    "    # Translation\n",
    "    tr_x = trans_range*np.random.uniform()-trans_range/2\n",
    "    tr_y = trans_range*np.random.uniform()-trans_range/2\n",
    "    Trans_M = np.float32([[1,0,tr_x],[0,1,tr_y]])\n",
    "\n",
    "    # Shear\n",
    "    pts1 = np.float32([[5,5],[20,5],[5,20]])\n",
    "\n",
    "    pt1 = 5+shear_range*np.random.uniform()-shear_range/2\n",
    "    pt2 = 20+shear_range*np.random.uniform()-shear_range/2\n",
    "    \n",
    "    # Brightness \n",
    "    \n",
    "\n",
    "    pts2 = np.float32([[pt1,5],[pt2,pt1],[5,pt2]])\n",
    "\n",
    "    shear_M = cv2.getAffineTransform(pts1,pts2)\n",
    "        \n",
    "    img = cv2.warpAffine(img,Rot_M,(cols,rows))\n",
    "    img = cv2.warpAffine(img,Trans_M,(cols,rows))\n",
    "    img = cv2.warpAffine(img,shear_M,(cols,rows))\n",
    "    \n",
    "    img = augment_brightness_camera_images(img)\n",
    "    \n",
    "    return img"
   ]
  },
  {
   "cell_type": "code",
   "execution_count": 7,
   "metadata": {},
   "outputs": [
    {
     "name": "stdout",
     "output_type": "stream",
     "text": [
      "Equalize each class sample count to max samples present in original data set\n",
      "Total data size increase by 148.369206012 %\n",
      "X_train shape: (34799, 32, 32, 3) (34799,)\n",
      "Class Label 0\n",
      "No of more samples  3840\n",
      "added transformed images for Class:  0\n",
      "Class Label 1\n",
      "No of more samples  2040\n",
      "added transformed images for Class:  1\n",
      "Class Label 2\n",
      "No of more samples  2010\n",
      "added transformed images for Class:  2\n",
      "Class Label 3\n",
      "No of more samples  2760\n",
      "added transformed images for Class:  3\n",
      "Class Label 4\n",
      "No of more samples  2250\n",
      "added transformed images for Class:  4\n",
      "Class Label 5\n",
      "No of more samples  2370\n",
      "added transformed images for Class:  5\n",
      "Class Label 6\n",
      "No of more samples  3660\n",
      "added transformed images for Class:  6\n",
      "Class Label 7\n",
      "No of more samples  2730\n",
      "added transformed images for Class:  7\n",
      "Class Label 8\n",
      "No of more samples  2760\n",
      "added transformed images for Class:  8\n",
      "Class Label 9\n",
      "No of more samples  2700\n",
      "added transformed images for Class:  9\n",
      "Class Label 10\n",
      "No of more samples  2220\n",
      "added transformed images for Class:  10\n",
      "Class Label 11\n",
      "No of more samples  2850\n",
      "added transformed images for Class:  11\n",
      "Class Label 12\n",
      "No of more samples  2130\n",
      "added transformed images for Class:  12\n",
      "Class Label 13\n",
      "No of more samples  2100\n",
      "added transformed images for Class:  13\n",
      "Class Label 14\n",
      "No of more samples  3330\n",
      "added transformed images for Class:  14\n",
      "Class Label 15\n",
      "No of more samples  3480\n",
      "added transformed images for Class:  15\n",
      "Class Label 16\n",
      "No of more samples  3660\n",
      "added transformed images for Class:  16\n",
      "Class Label 17\n",
      "No of more samples  3030\n",
      "added transformed images for Class:  17\n",
      "Class Label 18\n",
      "No of more samples  2940\n",
      "added transformed images for Class:  18\n",
      "Class Label 19\n",
      "No of more samples  3840\n",
      "added transformed images for Class:  19\n",
      "Class Label 20\n",
      "No of more samples  3720\n",
      "added transformed images for Class:  20\n",
      "Class Label 21\n",
      "No of more samples  3750\n",
      "added transformed images for Class:  21\n",
      "Class Label 22\n",
      "No of more samples  3690\n",
      "added transformed images for Class:  22\n",
      "Class Label 23\n",
      "No of more samples  3570\n",
      "added transformed images for Class:  23\n",
      "Class Label 24\n",
      "No of more samples  3780\n",
      "added transformed images for Class:  24\n",
      "Class Label 25\n",
      "No of more samples  2670\n",
      "added transformed images for Class:  25\n",
      "Class Label 26\n",
      "No of more samples  3480\n",
      "added transformed images for Class:  26\n",
      "Class Label 27\n",
      "No of more samples  3810\n",
      "added transformed images for Class:  27\n",
      "Class Label 28\n",
      "No of more samples  3540\n",
      "added transformed images for Class:  28\n",
      "Class Label 29\n",
      "No of more samples  3780\n",
      "added transformed images for Class:  29\n",
      "Class Label 30\n",
      "No of more samples  3630\n",
      "added transformed images for Class:  30\n",
      "Class Label 31\n",
      "No of more samples  3330\n",
      "added transformed images for Class:  31\n",
      "Class Label 32\n",
      "No of more samples  3810\n",
      "added transformed images for Class:  32\n",
      "Class Label 33\n",
      "No of more samples  3421\n",
      "added transformed images for Class:  33\n",
      "Class Label 34\n",
      "No of more samples  3660\n",
      "added transformed images for Class:  34\n",
      "Class Label 35\n",
      "No of more samples  2940\n",
      "added transformed images for Class:  35\n",
      "Class Label 36\n",
      "No of more samples  3690\n",
      "added transformed images for Class:  36\n",
      "Class Label 37\n",
      "No of more samples  3840\n",
      "added transformed images for Class:  37\n",
      "Class Label 38\n",
      "No of more samples  2160\n",
      "added transformed images for Class:  38\n",
      "Class Label 39\n",
      "No of more samples  3750\n",
      "added transformed images for Class:  39\n",
      "Class Label 40\n",
      "No of more samples  3720\n",
      "added transformed images for Class:  40\n",
      "Class Label 41\n",
      "No of more samples  3810\n",
      "added transformed images for Class:  41\n",
      "Class Label 42\n",
      "No of more samples  3810\n",
      "added transformed images for Class:  42\n"
     ]
    },
    {
     "data": {
      "image/png": "[encoded data removed]",
      "text/plain": [
       "<matplotlib.figure.Figure at 0x131723828>"
      ]
     },
     "metadata": {},
     "output_type": "display_data"
    }
   ],
   "source": [
    "%matplotlib inline\n",
    "import matplotlib.pyplot as plt\n",
    "import numpy as np\n",
    "import cv2\n",
    "\n",
    "more_samples_required=max(counts)-counts\n",
    "print('Equalize each class sample count to max samples present in original data set')\n",
    "print('Total data size increase by', sum(more_samples_required)/sum(counts)*100, '%')\n",
    "#print(np.median(counts))\n",
    "#more_samples_required=max(counts)-counts\n",
    "#for u,samples in zip(unique,more_samples_required):\n",
    "#    print(u,samples)\n",
    "#print(sum(more_samples_required), sum(counts))\n",
    "\n",
    "X_train_mod=X_train\n",
    "y_train_mod=y_train\n",
    "print(\"X_train shape:\",X_train.shape,y_train.shape)\n",
    "\n",
    "more_samples_required=more_samples_required+max(counts)\n",
    "\n",
    "for unique_class_label,no_of_more_samples in zip(unique,more_samples_required):\n",
    "        class_images=np.where(y_train==unique_class_label)\n",
    "        #print('No of samples',no_of_more_samples)\n",
    "        tmp_array=[]\n",
    "        if(no_of_more_samples>0):\n",
    "            RAND_IMAGES=np.random.choice(class_images[0], no_of_more_samples, replace=True)\n",
    "            #tmp_array=np.empty([len(RAND_IMAGES),X_train.shape[1],X_train.shape[2],X_train.shape[3]])\n",
    "            print(\"Class Label\",unique_class_label)\n",
    "            print(\"No of more samples \",no_of_more_samples)\n",
    "            #print(\"Tmp array shape\",tmp_array.shape)\n",
    "            \n",
    "            #for i in range(0,tmp_array.shape[0]):\n",
    "                #print(i)\n",
    "            #    img = transform_image(X_train[i],20,10,5)\n",
    "                #img=X_train[i]\n",
    "            #    tmp_array[i:]=img\n",
    "                #print(' transformed image : ', i)\n",
    "            #X_train_mod=np.concatenate((X_train_mod, tmp_array), axis=0)\n",
    "            X_train_mod=np.concatenate((X_train_mod, X_train[RAND_IMAGES]), axis=0)\n",
    "            #print(X_train_mod.shape)\n",
    "            y_train_mod=np.concatenate((y_train_mod, np.repeat(unique_class_label,no_of_more_samples)), axis=0)\n",
    "            print('added transformed images for Class: ', unique_class_label)\n",
    "            plt.imshow(X_train_mod[-1].squeeze())\n",
    "            #plt.subplot(10,10,i+1)\n",
    "            #plt.imshow(tmp_array[-1:].squeeze(),cmap='gray')\n",
    "#print(X_train_mod.shape,y_train_mod.shape)"
   ]
  },
  {
   "cell_type": "code",
   "execution_count": 8,
   "metadata": {},
   "outputs": [
    {
     "name": "stdout",
     "output_type": "stream",
     "text": [
      "(172860, 32, 32, 3) (172860,)\n"
     ]
    }
   ],
   "source": [
    "print(X_train_mod.shape,y_train_mod.shape)\n"
   ]
  },
  {
   "cell_type": "code",
   "execution_count": 9,
   "metadata": {},
   "outputs": [
    {
     "data": {
      "image/png": "[encoded data removed]",
      "text/plain": [
       "<matplotlib.figure.Figure at 0x105248208>"
      ]
     },
     "metadata": {},
     "output_type": "display_data"
    }
   ],
   "source": [
    "# VISUALIZATION OF TRAFFIC SIGNS before augmenting data\n",
    "%matplotlib inline\n",
    "import matplotlib.pyplot as plt\n",
    "import numpy as np\n",
    "\n",
    "plt.bar( np.arange( n_classes ), counts, align='center' )\n",
    "plt.xlabel('Class Label')\n",
    "plt.ylabel('Training samples')\n",
    "plt.xlim([-1, n_classes])\n",
    "plt.show()\n"
   ]
  },
  {
   "cell_type": "code",
   "execution_count": 10,
   "metadata": {},
   "outputs": [
    {
     "data": {
      "image/png": "[encoded data removed]",
      "text/plain": [
       "<matplotlib.figure.Figure at 0x1052480b8>"
      ]
     },
     "metadata": {},
     "output_type": "display_data"
    }
   ],
   "source": [
    "# VISUALIZATION OF TRAFFIC SIGNS AFTER augmenting data\n",
    "\n",
    "unique_mod, counts_mod = np.unique(y_train_mod, return_counts=True)\n",
    "plt.bar( np.arange( n_classes ), counts_mod, align='center' )\n",
    "plt.xlabel('Class Label')\n",
    "plt.ylabel('Training samples AUGMENTED')\n",
    "plt.xlim([-1, n_classes])\n",
    "plt.show()"
   ]
  },
  {
   "cell_type": "code",
   "execution_count": null,
   "metadata": {},
   "outputs": [],
   "source": [
    "print(X_train_original.shape)\n",
    "print(X_train.shape)"
   ]
  },
  {
   "cell_type": "code",
   "execution_count": 11,
   "metadata": {},
   "outputs": [],
   "source": [
    "#SET TRAINING VARIABLES WITH AUGMENTED DATA\n",
    "X_train_original= X_train\n",
    "Y_train_original=y_train\n",
    "X_train=X_train_mod\n",
    "y_train=y_train_mod"
   ]
  },
  {
   "cell_type": "code",
   "execution_count": 12,
   "metadata": {},
   "outputs": [
    {
     "name": "stdout",
     "output_type": "stream",
     "text": [
      "(172860, 32, 32, 1)\n"
     ]
    }
   ],
   "source": [
    "#CONVERT ALL IMAGES TO GRAYSCALE\n",
    "#X_train=color.rgb2gray(X_train)\n",
    "#X_validation=color.rgb2gray(X_validation)\n",
    "#X_test=color.rgb2gray(X_test)\n",
    "import cv2\n",
    "\n",
    "#X_train = cv2.cvtColor( X_train, cv2.COLOR_RGB2GRAY )\n",
    "#X_validation = cv2.cvtColor( X_validation, cv2.COLOR_RGB2GRAY )\n",
    "#X_test = cv2.cvtColor( X_test, cv2.COLOR_RGB2GRAY )\n",
    "\n",
    "X_train = np.sum(X_train/3, axis=3, keepdims=True)\n",
    "X_validation = np.sum(X_validation/3, axis=3, keepdims=True)\n",
    "X_test = np.sum(X_test/3, axis=3, keepdims=True)\n",
    "X_train_original= np.sum(X_train_original/3, axis=3, keepdims=True)\n",
    "print(X_train.shape)"
   ]
  },
  {
   "cell_type": "code",
   "execution_count": 13,
   "metadata": {},
   "outputs": [
    {
     "name": "stdout",
     "output_type": "stream",
     "text": [
      "(172860, 32, 32, 1)\n",
      "Image Shape: (32, 32, 1)\n",
      "\n",
      "Training Set:   172860 samples\n",
      "Validation Set: 4410 samples\n",
      "Test Set:       12630 samples\n"
     ]
    }
   ],
   "source": [
    "#NORMALIZE THE DATA\n",
    "X_train= (X_train-128)/128\n",
    "X_validation=(X_validation-128)/128\n",
    "X_test=(X_test-128)/128\n",
    "X_train_original=(X_train_original-128)/128\n",
    "\n",
    "#X_train, y_train           = mnist.train.images, mnist.train.labels\n",
    "#X_validation, y_validation = mnist.validation.images, mnist.validation.labels\n",
    "#X_test, y_test             = mnist.test.images, mnist.test.labels\n",
    "\n",
    "assert(len(X_train) == len(y_train))\n",
    "assert(len(X_validation) == len(y_validation))\n",
    "assert(len(X_test) == len(y_test))\n",
    "\n",
    "print(X_train.shape)\n",
    "\n",
    "print(\"Image Shape: {}\".format(X_train[0].shape))\n",
    "print()\n",
    "print(\"Training Set:   {} samples\".format(len(X_train)))\n",
    "print(\"Validation Set: {} samples\".format(len(X_validation)))\n",
    "print(\"Test Set:       {} samples\".format(len(X_test)))"
   ]
  },
  {
   "cell_type": "code",
   "execution_count": null,
   "metadata": {},
   "outputs": [],
   "source": [
    "#%matplotlib inline\n",
    "#import matplotlib.pyplot as plt\n",
    "#import numpy as np\n",
    "#X_train_mod=[]\n",
    "#y_train_mod=[]\n",
    "\n",
    "#X_train_mod=np.concatenate((X_train_mod, X_train[0]), axis=0)\n",
    "#X_train_mod.append(X_train[0])\n",
    "#X_train_mod=np.array(X_train_mod)\n",
    "#print(X_train_mod.shape)\n"
   ]
  },
  {
   "cell_type": "markdown",
   "metadata": {},
   "source": [
    "The MNIST data that TensorFlow pre-loads comes as 28x28x1 images.\n",
    "\n",
    "However, the LeNet architecture only accepts 32x32xC images, where C is the number of color channels.\n",
    "\n",
    "In order to reformat the MNIST data into a shape that LeNet will accept, we pad the data with two rows of zeros on the top and bottom, and two columns of zeros on the left and right (28+2+2 = 32).\n",
    "\n",
    "You do not need to modify this section."
   ]
  },
  {
   "cell_type": "code",
   "execution_count": 14,
   "metadata": {},
   "outputs": [],
   "source": [
    "from sklearn.model_selection import train_test_split"
   ]
  },
  {
   "cell_type": "code",
   "execution_count": 15,
   "metadata": {},
   "outputs": [],
   "source": [
    "#NOT REQUIRED, TRAFFIC SIGNS DATASET IS ALREADY 32X32 \n",
    "\n",
    "#import numpy as np\n",
    "\n",
    "# Pad images with 0s\n",
    "#X_train      = np.pad(X_train, ((0,0),(2,2),(2,2),(0,0)), 'constant')\n",
    "#X_validation = np.pad(X_validation, ((0,0),(2,2),(2,2),(0,0)), 'constant')\n",
    "#X_test       = np.pad(X_test, ((0,0),(2,2),(2,2),(0,0)), 'constant')\n",
    "    \n",
    "#print(\"Updated Image Shape: {}\".format(X_train[0].shape))"
   ]
  },
  {
   "cell_type": "markdown",
   "metadata": {},
   "source": [
    "## Visualize Data\n",
    "\n",
    "View a sample from the dataset.\n",
    "\n",
    "You do not need to modify this section."
   ]
  },
  {
   "cell_type": "code",
   "execution_count": null,
   "metadata": {},
   "outputs": [],
   "source": [
    "#X_train_gray = np.sum(X_train/3, axis=3, keepdims=True)\n",
    "plt.figure(figsize=(2,2))\n",
    "\n",
    "plt.imshow(X_train[-110].squeeze(),cmap='gray')\n"
   ]
  },
  {
   "cell_type": "markdown",
   "metadata": {},
   "source": [
    "## Preprocess Data\n",
    "\n",
    "Shuffle the training data.\n",
    "\n",
    "You do not need to modify this section."
   ]
  },
  {
   "cell_type": "code",
   "execution_count": 16,
   "metadata": {},
   "outputs": [],
   "source": [
    "from sklearn.utils import shuffle\n",
    "\n",
    "X_train, y_train = shuffle(X_train, y_train)"
   ]
  },
  {
   "cell_type": "markdown",
   "metadata": {},
   "source": [
    "## Setup TensorFlow\n",
    "The `EPOCH` and `BATCH_SIZE` values affect the training speed and model accuracy.\n",
    "\n",
    "You do not need to modify this section."
   ]
  },
  {
   "cell_type": "code",
   "execution_count": 17,
   "metadata": {},
   "outputs": [],
   "source": [
    "import tensorflow as tf\n",
    "\n",
    "EPOCHS = 60\n",
    "BATCH_SIZE = 200\n",
    "KEEP_PROB     = 0.5"
   ]
  },
  {
   "cell_type": "markdown",
   "metadata": {},
   "source": [
    "## TODO: Implement LeNet-5\n",
    "Implement the [LeNet-5](http://yann.lecun.com/exdb/lenet/) neural network architecture.\n",
    "\n",
    "This is the only cell you need to edit.\n",
    "### Input\n",
    "The LeNet architecture accepts a 32x32xC image as input, where C is the number of color channels. Since MNIST images are grayscale, C is 1 in this case.\n",
    "\n",
    "### Architecture\n",
    "**Layer 1: Convolutional.** The output shape should be 28x28x6.\n",
    "\n",
    "**Activation.** Your choice of activation function.\n",
    "\n",
    "**Pooling.** The output shape should be 14x14x6.\n",
    "\n",
    "**Layer 2: Convolutional.** The output shape should be 10x10x16.\n",
    "\n",
    "**Activation.** Your choice of activation function.\n",
    "\n",
    "**Pooling.** The output shape should be 5x5x16.\n",
    "\n",
    "**Flatten.** Flatten the output shape of the final pooling layer such that it's 1D instead of 3D. The easiest way to do is by using `tf.contrib.layers.flatten`, which is already imported for you.\n",
    "\n",
    "**Layer 3: Fully Connected.** This should have 120 outputs.\n",
    "\n",
    "**Activation.** Your choice of activation function.\n",
    "\n",
    "**Layer 4: Fully Connected.** This should have 84 outputs.\n",
    "\n",
    "**Activation.** Your choice of activation function.\n",
    "\n",
    "**Layer 5: Fully Connected (Logits).** This should have 10 outputs.\n",
    "\n",
    "### Output\n",
    "Return the result of the 2nd fully connected layer."
   ]
  },
  {
   "cell_type": "code",
   "execution_count": 18,
   "metadata": {},
   "outputs": [],
   "source": [
    "from tensorflow.contrib.layers import flatten\n",
    "\n",
    "def LeNet(x):    \n",
    "     \n",
    "    # Hyperparameters\n",
    "    mu = 0\n",
    "    sigma = 0.1\n",
    "\n",
    "    # SOLUTION: Layer 1: Convolutional. Input = 32x32x3 [TRAFFIC SIGN DATA SET HAS 3 CHANNELS,BUT THIS GOT CONVERTED TO GRAYSCALE]. Output = 28x28x6.\n",
    "    conv1_W = tf.Variable(tf.truncated_normal(shape=(5, 5, 1, 6), mean = mu, stddev = sigma))\n",
    "    #IF USING RGB IMAGES, USE THIS INSTEAD WITH INPUT MATRIX CHANNELS SET TO 3\n",
    "    #conv1_W = tf.Variable(tf.truncated_normal(shape=(5, 5, 3, 6), mean = mu, stddev = sigma))\n",
    "    \n",
    "    conv1_b = tf.Variable(tf.zeros(6))\n",
    "    conv1   = tf.nn.conv2d(x, conv1_W, strides=[1, 1, 1, 1], padding='VALID') + conv1_b\n",
    "\n",
    "    # SOLUTION: Activation.\n",
    "    conv1 = tf.nn.relu(conv1)\n",
    "    \n",
    "    #DROPOUT\n",
    "    #conv1=tf.nn.dropout(conv1, keep_prob=KEEP_PROB)\n",
    "\n",
    "    # SOLUTION: Pooling. Input = 28x28x6. Output = 14x14x6.\n",
    "    conv1 = tf.nn.max_pool(conv1, ksize=[1, 2, 2, 1], strides=[1, 2, 2, 1], padding='VALID')\n",
    "    #conv1 = tf.nn.dropout(conv1, keep_prob=KEEP_PROB)\n",
    "\n",
    "    # SOLUTION: Layer 2: Convolutional. Output = 10x10x16.\n",
    "    conv2_W = tf.Variable(tf.truncated_normal(shape=(5, 5, 6, 16), mean = mu, stddev = sigma))\n",
    "    conv2_b = tf.Variable(tf.zeros(16))\n",
    "    conv2   = tf.nn.conv2d(conv1, conv2_W, strides=[1, 1, 1, 1], padding='VALID') + conv2_b\n",
    "\n",
    "    # SOLUTION: Activation.\n",
    "    conv2 = tf.nn.relu(conv2)\n",
    "    #conv2=tf.nn.dropout(conv2, keep_prob=KEEP_PROB)\n",
    "\n",
    "    # SOLUTION: Pooling. Input = 10x10x16. Output = 5x5x16.\n",
    "    conv2 = tf.nn.max_pool(conv2, ksize=[1, 2, 2, 1], strides=[1, 2, 2, 1], padding='VALID')\n",
    "    #conv2 = tf.nn.dropout(conv2, keep_prob=KEEP_PROB)\n",
    "    \n",
    "    #============\n",
    "    #ADDED 3RD CONVOLUTION LAYER, NOT PART OF LENET. INPUT = 5x5x16, output=5x5x16\n",
    "    #conv3_W = tf.Variable(tf.truncated_normal(shape=(1,1, 16, 16), mean = mu, stddev = sigma))\n",
    "    #conv3_b = tf.Variable(tf.zeros(16))\n",
    "    #conv3   = tf.nn.conv2d(conv2, conv3_W, strides=[1, 1, 1, 1], padding='VALID') + conv3_b\n",
    "    #conv3 = tf.nn.relu(conv3)\n",
    "    #conv3 = tf.nn.max_pool(conv3, ksize=[1, 1,1, 1], strides=[1, 1,1, 1], padding='VALID')\n",
    "    #fc0   = flatten(conv3)\n",
    "    #COMMENT OUT THIS fc0 flatten and uncomment fc0 with conv2 below\n",
    "    #===========\n",
    "    \n",
    "    # SOLUTION: Flatten. Input = 5x5x16. Output = 400.\n",
    "    fc0   = flatten(conv2)\n",
    "    #fc0=tf.nn.dropout(fc0, keep_prob=KEEP_PROB)\n",
    "\n",
    "    # SOLUTION: Layer 3: Fully Connected. Input = 400. Output = 120.\n",
    "    fc1_W = tf.Variable(tf.truncated_normal(shape=(400, 120), mean = mu, stddev = sigma))\n",
    "    fc1_b = tf.Variable(tf.zeros(120))\n",
    "    fc1   = tf.matmul(fc0, fc1_W) + fc1_b\n",
    "    #fc1=tf.nn.dropout(fc1, keep_prob=KEEP_PROB)\n",
    "\n",
    "    # SOLUTION: Activation.\n",
    "    fc1    = tf.nn.relu(fc1)\n",
    "    #fc1=tf.nn.dropout(fc1, keep_prob=KEEP_PROB)\n",
    "\n",
    "    # SOLUTION: Layer 4: Fully Connected. Input = 120. Output = 84.\n",
    "    fc2_W  = tf.Variable(tf.truncated_normal(shape=(120, 84), mean = mu, stddev = sigma))\n",
    "    fc2_b  = tf.Variable(tf.zeros(84))\n",
    "    fc2    = tf.matmul(fc1, fc2_W) + fc2_b\n",
    "\n",
    "    # SOLUTION: Activation.\n",
    "    fc2    = tf.nn.relu(fc2)\n",
    "    #fc2=tf.nn.dropout(fc2, keep_prob=KEEP_PROB)\n",
    "\n",
    "\n",
    "    # SOLUTION: Layer 5: Fully Connected. Input = 84. Output = 43[TRAFFIC SIGN DATA HAS 43 OUTPUT CLASSES].\n",
    "    fc3_W  = tf.Variable(tf.truncated_normal(shape=(84, 43), mean = mu, stddev = sigma))\n",
    "    fc3_b  = tf.Variable(tf.zeros(43))\n",
    "    logits = tf.matmul(fc2, fc3_W) + fc3_b\n",
    "\n",
    "    return logits"
   ]
  },
  {
   "cell_type": "markdown",
   "metadata": {},
   "source": [
    "## Features and Labels\n",
    "Train LeNet to classify [MNIST](http://yann.lecun.com/exdb/mnist/) data.\n",
    "\n",
    "`x` is a placeholder for a batch of input images.\n",
    "`y` is a placeholder for a batch of output labels.\n",
    "\n",
    "You do not need to modify this section."
   ]
  },
  {
   "cell_type": "code",
   "execution_count": 19,
   "metadata": {},
   "outputs": [],
   "source": [
    "x = tf.placeholder(tf.float32, (None, 32, 32,1))\n",
    "#IF USING RGB IMAGES, USE THIS INSTEAD WITH INPUT MATRIX CHANNELS SET TO 3\n",
    "#x = tf.placeholder(tf.float32, (None, 32, 32, 3))\n",
    "\n",
    "y = tf.placeholder(tf.int32, (None))\n",
    "one_hot_y = tf.one_hot(y, 43)"
   ]
  },
  {
   "cell_type": "markdown",
   "metadata": {},
   "source": [
    "## Training Pipeline\n",
    "Create a training pipeline that uses the model to classify MNIST data.\n",
    "\n",
    "You do not need to modify this section."
   ]
  },
  {
   "cell_type": "code",
   "execution_count": 20,
   "metadata": {},
   "outputs": [],
   "source": [
    "#rate = 0.001\n",
    "rate=0.00097\n",
    "\n",
    "logits = LeNet(x)\n",
    "cross_entropy = tf.nn.softmax_cross_entropy_with_logits(labels=one_hot_y, logits=logits)\n",
    "loss_operation = tf.reduce_mean(cross_entropy)\n",
    "optimizer = tf.train.AdamOptimizer(learning_rate = rate)\n",
    "training_operation = optimizer.minimize(loss_operation)"
   ]
  },
  {
   "cell_type": "markdown",
   "metadata": {},
   "source": [
    "## Model Evaluation\n",
    "Evaluate how well the loss and accuracy of the model for a given dataset.\n",
    "\n",
    "You do not need to modify this section."
   ]
  },
  {
   "cell_type": "code",
   "execution_count": 21,
   "metadata": {},
   "outputs": [],
   "source": [
    "correct_prediction = tf.equal(tf.argmax(logits, 1), tf.argmax(one_hot_y, 1))\n",
    "accuracy_operation = tf.reduce_mean(tf.cast(correct_prediction, tf.float32))\n",
    "saver = tf.train.Saver()\n",
    "\n",
    "def evaluate(X_data, y_data):\n",
    "    num_examples = len(X_data)\n",
    "    total_accuracy = 0\n",
    "    sess = tf.get_default_session()\n",
    "    for offset in range(0, num_examples, BATCH_SIZE):\n",
    "        batch_x, batch_y = X_data[offset:offset+BATCH_SIZE], y_data[offset:offset+BATCH_SIZE]\n",
    "        accuracy = sess.run(accuracy_operation, feed_dict={x: batch_x, y: batch_y})\n",
    "        total_accuracy += (accuracy * len(batch_x))\n",
    "    return total_accuracy / num_examples"
   ]
  },
  {
   "cell_type": "markdown",
   "metadata": {},
   "source": [
    "## Train the Model\n",
    "Run the training data through the training pipeline to train the model.\n",
    "\n",
    "Before each epoch, shuffle the training set.\n",
    "\n",
    "After each epoch, measure the loss and accuracy of the validation set.\n",
    "\n",
    "Save the model after training.\n",
    "\n",
    "You do not need to modify this section."
   ]
  },
  {
   "cell_type": "code",
   "execution_count": 22,
   "metadata": {},
   "outputs": [
    {
     "name": "stdout",
     "output_type": "stream",
     "text": [
      "Training...\n",
      "\n",
      "EPOCH 1 ...\n",
      "Validation Accuracy = 0.856\n",
      "\n",
      "EPOCH 2 ...\n",
      "Validation Accuracy = 0.893\n",
      "\n",
      "EPOCH 3 ...\n",
      "Validation Accuracy = 0.896\n",
      "\n",
      "EPOCH 4 ...\n",
      "Validation Accuracy = 0.916\n",
      "\n",
      "EPOCH 5 ...\n",
      "Validation Accuracy = 0.915\n",
      "\n",
      "EPOCH 6 ...\n",
      "Validation Accuracy = 0.906\n",
      "\n",
      "EPOCH 7 ...\n",
      "Validation Accuracy = 0.910\n",
      "\n",
      "EPOCH 8 ...\n",
      "Validation Accuracy = 0.914\n",
      "\n",
      "EPOCH 9 ...\n",
      "Validation Accuracy = 0.933\n",
      "\n",
      "EPOCH 10 ...\n",
      "Validation Accuracy = 0.915\n",
      "\n",
      "EPOCH 11 ...\n",
      "Validation Accuracy = 0.927\n",
      "\n",
      "EPOCH 12 ...\n",
      "Validation Accuracy = 0.927\n",
      "\n",
      "EPOCH 13 ...\n",
      "Validation Accuracy = 0.925\n",
      "\n",
      "EPOCH 14 ...\n",
      "Validation Accuracy = 0.925\n",
      "\n",
      "EPOCH 15 ...\n",
      "Validation Accuracy = 0.939\n",
      "\n",
      "EPOCH 16 ...\n",
      "Validation Accuracy = 0.922\n",
      "\n",
      "EPOCH 17 ...\n",
      "Validation Accuracy = 0.926\n",
      "\n",
      "EPOCH 18 ...\n",
      "Validation Accuracy = 0.932\n",
      "\n",
      "EPOCH 19 ...\n",
      "Validation Accuracy = 0.932\n",
      "\n",
      "EPOCH 20 ...\n",
      "Validation Accuracy = 0.916\n",
      "\n",
      "EPOCH 21 ...\n",
      "Validation Accuracy = 0.939\n",
      "\n",
      "EPOCH 22 ...\n",
      "Validation Accuracy = 0.915\n",
      "\n",
      "EPOCH 23 ...\n",
      "Validation Accuracy = 0.929\n",
      "\n",
      "EPOCH 24 ...\n",
      "Validation Accuracy = 0.940\n",
      "\n",
      "EPOCH 25 ...\n",
      "Validation Accuracy = 0.946\n",
      "\n",
      "EPOCH 26 ...\n",
      "Validation Accuracy = 0.945\n",
      "\n",
      "EPOCH 27 ...\n",
      "Validation Accuracy = 0.945\n",
      "\n",
      "EPOCH 28 ...\n",
      "Validation Accuracy = 0.945\n",
      "\n",
      "EPOCH 29 ...\n",
      "Validation Accuracy = 0.944\n",
      "\n",
      "EPOCH 30 ...\n",
      "Validation Accuracy = 0.945\n",
      "\n",
      "EPOCH 31 ...\n",
      "Validation Accuracy = 0.944\n",
      "\n",
      "EPOCH 32 ...\n",
      "Validation Accuracy = 0.946\n",
      "\n",
      "EPOCH 33 ...\n",
      "Validation Accuracy = 0.926\n",
      "\n",
      "EPOCH 34 ...\n",
      "Validation Accuracy = 0.939\n",
      "\n",
      "EPOCH 35 ...\n",
      "Validation Accuracy = 0.938\n",
      "\n",
      "EPOCH 36 ...\n",
      "Validation Accuracy = 0.943\n",
      "\n",
      "EPOCH 37 ...\n",
      "Validation Accuracy = 0.937\n",
      "\n",
      "EPOCH 38 ...\n",
      "Validation Accuracy = 0.937\n",
      "\n",
      "EPOCH 39 ...\n",
      "Validation Accuracy = 0.943\n",
      "\n",
      "EPOCH 40 ...\n",
      "Validation Accuracy = 0.942\n",
      "\n",
      "EPOCH 41 ...\n",
      "Validation Accuracy = 0.932\n",
      "\n",
      "EPOCH 42 ...\n",
      "Validation Accuracy = 0.941\n",
      "\n",
      "EPOCH 43 ...\n",
      "Validation Accuracy = 0.939\n",
      "\n",
      "EPOCH 44 ...\n",
      "Validation Accuracy = 0.950\n",
      "\n",
      "EPOCH 45 ...\n",
      "Validation Accuracy = 0.949\n",
      "\n",
      "EPOCH 46 ...\n",
      "Validation Accuracy = 0.932\n",
      "\n",
      "EPOCH 47 ...\n",
      "Validation Accuracy = 0.938\n",
      "\n",
      "EPOCH 48 ...\n",
      "Validation Accuracy = 0.932\n",
      "\n",
      "EPOCH 49 ...\n",
      "Validation Accuracy = 0.949\n",
      "\n",
      "EPOCH 50 ...\n",
      "Validation Accuracy = 0.935\n",
      "\n",
      "EPOCH 51 ...\n",
      "Validation Accuracy = 0.938\n",
      "\n",
      "EPOCH 52 ...\n",
      "Validation Accuracy = 0.934\n",
      "\n",
      "EPOCH 53 ...\n",
      "Validation Accuracy = 0.930\n",
      "\n",
      "EPOCH 54 ...\n",
      "Validation Accuracy = 0.945\n",
      "\n",
      "EPOCH 55 ...\n",
      "Validation Accuracy = 0.944\n",
      "\n",
      "EPOCH 56 ...\n",
      "Validation Accuracy = 0.943\n",
      "\n",
      "EPOCH 57 ...\n",
      "Validation Accuracy = 0.943\n",
      "\n",
      "EPOCH 58 ...\n",
      "Validation Accuracy = 0.943\n",
      "\n",
      "EPOCH 59 ...\n",
      "Validation Accuracy = 0.944\n",
      "\n",
      "EPOCH 60 ...\n",
      "Validation Accuracy = 0.943\n",
      "\n",
      "Model saved\n"
     ]
    }
   ],
   "source": [
    "with tf.Session() as sess:\n",
    "    sess.run(tf.global_variables_initializer())\n",
    "    num_examples = len(X_train)\n",
    "    #The np.newaxis adds a new dimension of size 1 in the  last (channels) dimensions, as the tensorflow 2D convolution expects 4D array, and we converted RGB channel to grayscale and lost 1 dimension\n",
    "    #X_validation = X_validation[..., np.newaxis]  \n",
    "    print(\"Training...\")\n",
    "    print()\n",
    "    for i in range(EPOCHS):\n",
    "        X_train, y_train = shuffle(X_train, y_train)\n",
    "        for offset in range(0, num_examples, BATCH_SIZE):\n",
    "            end = offset + BATCH_SIZE\n",
    "            batch_x, batch_y = X_train[offset:end], y_train[offset:end]\n",
    "            #The np.newaxis adds a new dimension of size 1 in the  last (channels) dimensions, as the tensorflow 2D convolution expects 4D array\n",
    "            #batch_x = batch_x[..., np.newaxis]\n",
    "            sess.run(training_operation, feed_dict={x: batch_x, y: batch_y})\n",
    "          \n",
    "        validation_accuracy = evaluate(X_validation, y_validation)\n",
    "        print(\"EPOCH {} ...\".format(i+1))\n",
    "        print(\"Validation Accuracy = {:.3f}\".format(validation_accuracy))\n",
    "        print()\n",
    "        #if (validation_accuracy>0.93):\n",
    "        #    break\n",
    "        \n",
    "        \n",
    "    saver.save(sess, './lenet')\n",
    "    print(\"Model saved\")"
   ]
  },
  {
   "cell_type": "markdown",
   "metadata": {},
   "source": [
    "## Evaluate the Model\n",
    "Once you are completely satisfied with your model, evaluate the performance of the model on the test set.\n",
    "\n",
    "Be sure to only do this once!\n",
    "\n",
    "If you were to measure the performance of your trained model on the test set, then improve your model, and then measure the performance of your model on the test set again, that would invalidate your test results. You wouldn't get a true measure of how well your model would perform against real data.\n",
    "\n",
    "You do not need to modify this section."
   ]
  },
  {
   "cell_type": "code",
   "execution_count": 23,
   "metadata": {},
   "outputs": [
    {
     "name": "stdout",
     "output_type": "stream",
     "text": [
      "Test Accuracy = 0.934\n"
     ]
    }
   ],
   "source": [
    "with tf.Session() as sess:\n",
    "    saver.restore(sess, tf.train.latest_checkpoint('.'))\n",
    "\n",
    "    test_accuracy = evaluate(X_test, y_test)\n",
    "    print(\"Test Accuracy = {:.3f}\".format(test_accuracy))"
   ]
  },
  {
   "cell_type": "code",
   "execution_count": 24,
   "metadata": {},
   "outputs": [
    {
     "name": "stdout",
     "output_type": "stream",
     "text": [
      "['./web-images/4.png', './web-images/3.png', './web-images/1.png', './web-images/6.png', './web-images/5.png']\n",
      "(5, 32, 32, 3)\n"
     ]
    },
    {
     "data": {
      "image/png": "[encoded data removed]",
      "text/plain": [
       "<matplotlib.figure.Figure at 0x14a857438>"
      ]
     },
     "metadata": {},
     "output_type": "display_data"
    }
   ],
   "source": [
    "import glob\n",
    "import cv2\n",
    "\n",
    "num_of_samples=[]\n",
    "#Import test images  \n",
    "test_img_paths = [img_path for img_path in glob.glob(\"./web-images/*\")]\n",
    "print(test_img_paths)\n",
    "test_img=np.uint8(np.zeros((5,32,32,3)))\n",
    "for i, imp in enumerate(test_img_paths):\n",
    "    img=cv2.imread(imp, cv2.IMREAD_COLOR)\n",
    "    b,g,r = cv2.split(img)\n",
    "    img = cv2.merge([r,g,b])\n",
    "    test_img[i]=img\n",
    "\n",
    "print(test_img.shape)\n",
    "#Visualize new raw images\n",
    "plt.figure(figsize=(12, 8))\n",
    "for i in range(5):\n",
    "    plt.subplot(3, 2, i+1)\n",
    "    plt.imshow(test_img[i]) \n",
    "    plt.title(i)\n",
    "    plt.axis('off')\n",
    "    #num_of_samples.append(len(x_selected))\n",
    "plt.show()"
   ]
  },
  {
   "cell_type": "code",
   "execution_count": 25,
   "metadata": {},
   "outputs": [
    {
     "data": {
      "image/png": "[encoded data removed]",
      "text/plain": [
       "<matplotlib.figure.Figure at 0x11e421a90>"
      ]
     },
     "metadata": {},
     "output_type": "display_data"
    }
   ],
   "source": [
    "### Run the predictions here.\n",
    "### Feel free to use as many code cells as needed.\n",
    "def test_net(X_data, sess):\n",
    "    pred_sign = sess.run(tf.argmax(logits, 1), feed_dict={x: X_data})\n",
    "    return pred_sign\n",
    "\n",
    "#X_test_data=np.uint8(np.zeros((5,32,32,3)))\n",
    "X_test_web = np.sum(test_img/3, axis=3, keepdims=True)\n",
    "X_test_web=X_test_web.astype(np.float32)\n",
    "with tf.Session() as sess:\n",
    "    \n",
    "    saver.restore(sess, tf.train.latest_checkpoint('.'))\n",
    "    signs_classes=test_net(X_test_web, sess)\n",
    "\n",
    "\n",
    "plt.figure(figsize=(12, 8))\n",
    "for i in range(5):\n",
    "    #print(final_label_name[i])\n",
    "    plt.subplot(5,1, i+1)\n",
    "    plt.imshow(test_img[i]) \n",
    "    plt.title(final_label_name[signs_classes[i]])\n",
    "    plt.axis('off')\n",
    "plt.show()"
   ]
  },
  {
   "cell_type": "code",
   "execution_count": 28,
   "metadata": {},
   "outputs": [
    {
     "name": "stdout",
     "output_type": "stream",
     "text": [
      "[[ 0.  1.  0.  0.  0.  0.  0.  0.  0.  0.  0.  0.  0.  0.  0.  0.  0.  0.\n",
      "   0.  0.  0.  0.  0.  0.  0.  0.  0.  0.  0.  0.  0.  0.  0.  0.  0.  0.\n",
      "   0.  0.  0.  0.  0.  0.  0.]\n",
      " [ 0.  0.  0.  0.  0.  0.  0.  0.  0.  0.  0.  0.  0.  0.  0.  0.  0.  0.\n",
      "   0.  0.  0.  0.  0.  0.  0.  0.  0.  0.  0.  0.  0.  0.  0.  0.  0.  1.\n",
      "   0.  0.  0.  0.  0.  0.  0.]\n",
      " [ 0.  1.  0.  0.  0.  0.  0.  0.  0.  0.  0.  0.  0.  0.  0.  0.  0.  0.\n",
      "   0.  0.  0.  0.  0.  0.  0.  0.  0.  0.  0.  0.  0.  0.  0.  0.  0.  0.\n",
      "   0.  0.  0.  0.  0.  0.  0.]\n",
      " [ 0.  0.  0.  0.  0.  0.  0.  0.  0.  0.  0.  0.  0.  0.  0.  0.  0.  0.\n",
      "   1.  0.  0.  0.  0.  0.  0.  0.  0.  0.  0.  0.  0.  0.  0.  0.  0.  0.\n",
      "   0.  0.  0.  0.  0.  0.  0.]\n",
      " [ 0.  0.  0.  0.  0.  0.  0.  0.  0.  0.  0.  0.  0.  0.  0.  0.  0.  0.\n",
      "   0.  0.  0.  0.  0.  0.  0.  0.  0.  0.  0.  0.  0.  0.  0.  0.  0.  0.\n",
      "   0.  1.  0.  0.  0.  0.  0.]]\n"
     ]
    }
   ],
   "source": [
    "### Visualize the softmax probabilities here.\n",
    "### Feel free to use as many code cells as needed.\n",
    "\n",
    "def test_net(X_data, sess): \n",
    "    prob = sess.run(tf.nn.softmax(logits), feed_dict={x: X_data})\n",
    "    print(prob)\n",
    "    top_5 = tf.nn.top_k(prob, k=5)\n",
    "    return sess.run(top_5)\n",
    "\n",
    "\n",
    "with tf.Session() as sess:\n",
    "    \n",
    "    saver.restore(sess, tf.train.latest_checkpoint('.'))\n",
    "    signs_top_5=test_net(X_test_web, sess)\n",
    "    #print(X_test_web)"
   ]
  },
  {
   "cell_type": "code",
   "execution_count": null,
   "metadata": {},
   "outputs": [],
   "source": [
    "print(signs_top_5)"
   ]
  },
  {
   "cell_type": "code",
   "execution_count": null,
   "metadata": {},
   "outputs": [],
   "source": [
    "import matplotlib.pyplot as plt\n",
    "import matplotlib.gridspec as gridspec\n",
    "import cv2\n",
    "\n",
    "import numpy as np\n",
    "%matplotlib inline\n",
    "import matplotlib.image as mpimg"
   ]
  },
  {
   "cell_type": "code",
   "execution_count": null,
   "metadata": {},
   "outputs": [],
   "source": [
    "image=X_train[index]\n",
    "print(image.shape)\n",
    "plt.figure(figsize=(5,5))\n",
    "plt.imshow(X_train[index])\n"
   ]
  },
  {
   "cell_type": "code",
   "execution_count": null,
   "metadata": {},
   "outputs": [],
   "source": [
    "gs1 = gridspec.GridSpec(10, 10)\n",
    "gs1.update(wspace=0.01, hspace=0.02) # set the spacing between axes. \n",
    "plt.figure(figsize=(12,12))\n",
    "for i in range(100):\n",
    "    ax1 = plt.subplot(gs1[i])\n",
    "    ax1.set_xticklabels([])\n",
    "    ax1.set_yticklabels([])\n",
    "    ax1.set_aspect('equal')\n",
    "    img = transform_image(image,20,10,5)\n",
    "\n",
    "    plt.subplot(10,10,i+1)\n",
    "    plt.imshow(img.squeeze(),cmap='gray')\n",
    "    plt.axis('off')\n",
    "\n",
    "plt.show()"
   ]
  },
  {
   "cell_type": "code",
   "execution_count": null,
   "metadata": {},
   "outputs": [],
   "source": []
  }
 ],
 "metadata": {
  "anaconda-cloud": {},
  "kernelspec": {
   "display_name": "Python 3",
   "language": "python",
   "name": "python3"
  },
  "language_info": {
   "codemirror_mode": {
    "name": "ipython",
    "version": 3
   },
   "file_extension": ".py",
   "mimetype": "text/x-python",
   "name": "python",
   "nbconvert_exporter": "python",
   "pygments_lexer": "ipython3",
   "version": "3.5.2"
  },
  "widgets": {
   "state": {},
   "version": "1.1.2"
  }
 },
 "nbformat": 4,
 "nbformat_minor": 1
}
